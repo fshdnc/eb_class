{
 "cells": [
  {
   "cell_type": "code",
   "execution_count": 14,
   "metadata": {
    "ExecuteTime": {
     "end_time": "2021-09-13T11:26:39.084180Z",
     "start_time": "2021-09-13T11:26:37.443091Z"
    }
   },
   "outputs": [],
   "source": [
    "import pickle\n",
    "import matplotlib.pyplot as plt\n",
    "import numpy\n",
    "from scipy.stats import pearsonr"
   ]
  },
  {
   "cell_type": "code",
   "execution_count": 2,
   "metadata": {
    "ExecuteTime": {
     "end_time": "2021-09-13T10:45:36.751772Z",
     "start_time": "2021-09-13T10:45:34.223599Z"
    }
   },
   "outputs": [],
   "source": [
    "with open(\"delme_lengths.pickle\", \"rb\") as f:\n",
    "    preds, target, lengths = pickle.load(f)"
   ]
  },
  {
   "cell_type": "code",
   "execution_count": 10,
   "metadata": {
    "ExecuteTime": {
     "end_time": "2021-09-13T11:20:35.010629Z",
     "start_time": "2021-09-13T11:20:35.003118Z"
    }
   },
   "outputs": [],
   "source": [
    "preds = [int(i) for i in preds]\n",
    "target = [int(i) for i in target]\n",
    "lengths = [int(i) for i in lengths]"
   ]
  },
  {
   "cell_type": "markdown",
   "metadata": {},
   "source": [
    "## Trunc essay best model\n",
    "best_trunc_essay_7502465.ckpt"
   ]
  },
  {
   "cell_type": "code",
   "execution_count": 15,
   "metadata": {
    "ExecuteTime": {
     "end_time": "2021-09-13T11:27:22.915611Z",
     "start_time": "2021-09-13T11:27:22.602474Z"
    }
   },
   "outputs": [
    {
     "name": "stdout",
     "output_type": "stream",
     "text": [
      "Pearson correlation (0.7330246789084834, 1.3920195124673656e-17)\n"
     ]
    },
    {
     "data": {
      "image/png": "[encoded data removed]",
      "text/plain": [
       "<Figure size 432x288 with 1 Axes>"
      ]
     },
     "metadata": {
      "needs_background": "light"
     },
     "output_type": "display_data"
    }
   ],
   "source": [
    "print(\"Pearson correlation\", pearsonr(lengths, preds))\n",
    "#grades_range = [1,2,3,4,5]\n",
    "fig = plt.figure()\n",
    "ax = fig.add_axes([0,0,1,1])\n",
    "ax.scatter(lengths, preds,color=\"b\")\n",
    "#ax.scatter(lengths, target, color=\"r\")\n",
    "ax.set_xlabel(\"Length (truncated to 512)\")\n",
    "ax.set_ylabel(\"Predicted Grades\")\n",
    "plt.show()"
   ]
  },
  {
   "cell_type": "code",
   "execution_count": 16,
   "metadata": {
    "ExecuteTime": {
     "end_time": "2021-09-13T11:29:36.127436Z",
     "start_time": "2021-09-13T11:29:35.853834Z"
    }
   },
   "outputs": [
    {
     "name": "stdout",
     "output_type": "stream",
     "text": [
      "Pearson correlation (0.5545176086017304, 3.790506973954916e-09)\n"
     ]
    },
    {
     "data": {
      "image/png": "[encoded data removed]",
      "text/plain": [
       "<Figure size 432x288 with 1 Axes>"
      ]
     },
     "metadata": {
      "needs_background": "light"
     },
     "output_type": "display_data"
    }
   ],
   "source": [
    "print(\"Pearson correlation\", pearsonr(lengths, target))\n",
    "#grades_range = [1,2,3,4,5]\n",
    "fig = plt.figure()\n",
    "ax = fig.add_axes([0,0,1,1])\n",
    "#ax.scatter(lengths, preds,color=\"b\")\n",
    "ax.scatter(lengths, target, color=\"r\")\n",
    "ax.set_xlabel(\"Length (truncated to 512)\")\n",
    "ax.set_ylabel(\"Target Grades\")\n",
    "plt.show()"
   ]
  },
  {
   "cell_type": "markdown",
   "metadata": {
    "ExecuteTime": {
     "end_time": "2021-09-13T11:19:29.686408Z",
     "start_time": "2021-09-13T11:19:29.676957Z"
    }
   },
   "source": [
    "The predictions seems to be more affected by the length than the actual human grading.\n",
    "Todo: check the essay that is short but still got 5."
   ]
  },
  {
   "cell_type": "code",
   "execution_count": null,
   "metadata": {},
   "outputs": [],
   "source": []
  }
 ],
 "metadata": {
  "kernelspec": {
   "display_name": "venv",
   "language": "python",
   "name": "venv"
  },
  "language_info": {
   "codemirror_mode": {
    "name": "ipython",
    "version": 3
   },
   "file_extension": ".py",
   "mimetype": "text/x-python",
   "name": "python",
   "nbconvert_exporter": "python",
   "pygments_lexer": "ipython3",
   "version": "3.5.2"
  }
 },
 "nbformat": 4,
 "nbformat_minor": 2
}
